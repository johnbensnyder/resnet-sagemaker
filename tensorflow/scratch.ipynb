{
 "cells": [
  {
   "cell_type": "code",
   "execution_count": 1,
   "metadata": {},
   "outputs": [],
   "source": [
    "import os\n",
    "import logging\n",
    "from pathlib import Path\n",
    "from multiprocessing import cpu_count\n",
    "import tensorflow as tf\n",
    "from utils.dist_utils import is_sm_dist\n",
    "from models import resnet, darknet, hrnet\n",
    "from engine.schedulers import WarmupScheduler\n",
    "from engine.optimizers import MomentumOptimizer\n",
    "from datasets import create_dataset, parse\n",
    "from engine.trainer import Trainer\n",
    "if is_sm_dist():\n",
    "    import smdistributed.dataparallel.tensorflow as dist\n",
    "else:\n",
    "    import horovod.tensorflow as dist\n",
    "dist.init()"
   ]
  },
  {
   "cell_type": "code",
   "execution_count": 2,
   "metadata": {},
   "outputs": [],
   "source": [
    "from nvidia.dali.pipeline import Pipeline\n",
    "import nvidia.dali.fn as fn\n",
    "import nvidia.dali.types as types\n",
    "import nvidia.dali.tfrecord as tfrec\n",
    "import numpy as np\n",
    "import nvidia.dali.plugin.tf as dali_tf"
   ]
  },
  {
   "cell_type": "code",
   "execution_count": 3,
   "metadata": {},
   "outputs": [],
   "source": [
    "tf32 = True\n",
    "xla = True\n",
    "fp16 = True"
   ]
  },
  {
   "cell_type": "code",
   "execution_count": 4,
   "metadata": {},
   "outputs": [],
   "source": [
    "#tf.config.threading.intra_op_parallelism_threads = 1 # Avoid pool of Eigen threads\n",
    "#tf.config.threading.inter_op_parallelism_threads = max(2, cpu_count()//dist.local_size()-2)\n",
    "tf.config.optimizer.set_jit(xla)\n",
    "#tf.config.optimizer.set_experimental_options({\"auto_mixed_precision\": fp16})\n",
    "#tf.config.experimental.enable_tensor_float_32_execution(tf32)\n",
    "gpus = tf.config.experimental.list_physical_devices('GPU')\n",
    "for gpu in gpus:\n",
    "    tf.config.experimental.set_memory_growth(gpu, True)\n",
    "if gpus:\n",
    "    tf.config.experimental.set_visible_devices(gpus[dist.local_rank()], 'GPU')"
   ]
  },
  {
   "cell_type": "code",
   "execution_count": 5,
   "metadata": {},
   "outputs": [
    {
     "name": "stdout",
     "output_type": "stream",
     "text": [
      "INFO:tensorflow:Mixed precision compatibility check (mixed_float16): OK\n",
      "Your GPUs will likely run quickly with dtype policy mixed_float16 as they all have compute capability of at least 7.0\n"
     ]
    }
   ],
   "source": [
    "policy = tf.keras.mixed_precision.Policy('mixed_float16')\n",
    "tf.keras.mixed_precision.set_global_policy(policy)"
   ]
  },
  {
   "cell_type": "code",
   "execution_count": 6,
   "metadata": {},
   "outputs": [],
   "source": [
    "train_data_dir = '/home/ubuntu/data/imagenet/tfrecord/train/'\n",
    "train_idx_dir = '/home/ubuntu/data/imagenet/tfrecord/trainidx/'\n",
    "validation_data_dir = '/home/ubuntu/data/imagenet/tfrecord/validation/'\n",
    "model_dir = '/home/ubuntu/models'\n",
    "train_dataset_size = 1281167\n",
    "num_classes = 1000\n",
    "batch_size = 512\n",
    "num_epochs = 125\n",
    "schedule = 'cosine'\n",
    "learning_rate = 0.01\n",
    "momentum = 0.9\n",
    "label_smoothing = 0.1\n",
    "l2_weight_decay = 1e-5\n",
    "mixup_alpha = 0.2\n",
    "steps_per_epoch = train_dataset_size // (batch_size * dist.size())\n",
    "iterations = steps_per_epoch * num_epochs"
   ]
  },
  {
   "cell_type": "code",
   "execution_count": 7,
   "metadata": {},
   "outputs": [],
   "source": [
    "#list(Path(train_idx_dir).glob('*'))"
   ]
  },
  {
   "cell_type": "code",
   "execution_count": 8,
   "metadata": {},
   "outputs": [],
   "source": [
    "_R_MEAN = 123.68\n",
    "_G_MEAN = 116.78\n",
    "_B_MEAN = 103.94\n",
    "_R_STD = 58.393\n",
    "_G_STD = 57.12\n",
    "_B_STD = 57.375\n",
    "\n",
    "pipe = Pipeline(batch_size=batch_size, num_threads=4, device_id=dist.local_rank())\n",
    "\n",
    "with pipe:\n",
    "    inputs = fn.readers.tfrecord(\n",
    "        path=sorted([i.as_posix() for i in Path(train_data_dir).glob('train*')]),\n",
    "        index_path=sorted([i.as_posix() for i in Path(train_idx_dir).glob('*.idx')]),\n",
    "        features={\n",
    "            \"image/encoded\" : tfrec.FixedLenFeature((), tfrec.string, \"\"),\n",
    "            \"image/class/label\": tfrec.FixedLenFeature([1], tfrec.int64,  -1)\n",
    "        })\n",
    "    jpegs = inputs[\"image/encoded\"]\n",
    "    images = fn.decoders.image(jpegs, device=\"mixed\", output_type=types.RGB)\n",
    "    resized = fn.resize(images, device=\"gpu\", resize_shorter=256.)\n",
    "    output = fn.crop_mirror_normalize(\n",
    "        resized,\n",
    "        dtype=types.FLOAT,\n",
    "        crop=(224, 224),\n",
    "        mean=[_R_MEAN, _G_MEAN, _B_MEAN],\n",
    "        std=[_R_STD, _G_STD, _B_STD],\n",
    "        output_layout='HWC')\n",
    "    labels = fn.one_hot(inputs[\"image/class/label\"].gpu(), dtype=types.FLOAT, num_classes=1000)\n",
    "    pipe.set_outputs(output, labels)\n",
    "    \n",
    "shapes = (\n",
    "    (batch_size, 224, 224, 3),\n",
    "    (batch_size, 1000))\n",
    "dtypes = (\n",
    "    tf.float32,\n",
    "    tf.float32)\n",
    "\n",
    "def dataset_fn():\n",
    "    with tf.device(\"/gpu:{}\".format(dist.local_rank())):\n",
    "        device_id = dist.local_rank()\n",
    "        return dali_tf.DALIDataset(\n",
    "            pipeline=pipe,\n",
    "            batch_size=batch_size,\n",
    "            output_shapes=shapes,\n",
    "            output_dtypes=dtypes,\n",
    "            device_id=device_id)"
   ]
  },
  {
   "cell_type": "code",
   "execution_count": 9,
   "metadata": {},
   "outputs": [],
   "source": [
    "train_data_dali = dataset_fn()"
   ]
  },
  {
   "cell_type": "code",
   "execution_count": 10,
   "metadata": {},
   "outputs": [],
   "source": [
    "#model = resnet.ResNet152V1_d(weights=None, weight_decay=l2_weight_decay, classes=num_classes)\n",
    "model = resnet.ResNet50V1_b(weights=None, weight_decay=l2_weight_decay, classes=num_classes)\n",
    "scheduler = tf.keras.experimental.CosineDecayRestarts(initial_learning_rate=learning_rate,\n",
    "                    first_decay_steps=iterations, t_mul=1, m_mul=1)\n",
    "scheduler = WarmupScheduler(scheduler=scheduler, initial_learning_rate=learning_rate / 10, warmup_steps=500)\n",
    "opt = MomentumOptimizer(learning_rate=scheduler, momentum=momentum, nesterov=True) \n",
    "if fp16:\n",
    "    opt = tf.keras.mixed_precision.LossScaleOptimizer(opt, dynamic=False, initial_scale=128)\n",
    "    #opt = tf.train.experimental.enable_mixed_precision_graph_rewrite(opt, loss_scale=128.)\n",
    "loss_func = tf.keras.losses.CategoricalCrossentropy(from_logits=True, \n",
    "                                                    label_smoothing=label_smoothing, \n",
    "                                                    reduction=tf.keras.losses.Reduction.SUM_OVER_BATCH_SIZE) "
   ]
  },
  {
   "cell_type": "code",
   "execution_count": 11,
   "metadata": {},
   "outputs": [],
   "source": [
    "if dist.rank() == 0:\n",
    "    path_logs = os.path.join(os.getcwd(), model_dir, 'log.csv')\n",
    "    os.makedirs(model_dir, exist_ok=True)\n",
    "    logging.basicConfig(filename=path_logs,\n",
    "                            filemode='a',\n",
    "                            format='%(asctime)s,%(msecs)d %(name)s %(levelname)s %(message)s',\n",
    "                            datefmt='%H:%M:%S',\n",
    "                            level=logging.DEBUG)\n",
    "    logging.info(\"Training Logs\")\n",
    "    logger = logging.getLogger('logger')\n",
    "    # logger.info('Training options: %s', FLAGS)\n",
    "\n",
    "# Barrier\n",
    "_ = dist.allreduce(tf.constant(0))"
   ]
  },
  {
   "cell_type": "code",
   "execution_count": 12,
   "metadata": {},
   "outputs": [],
   "source": [
    "train_data = create_dataset(train_data_dir, batch_size, preprocessing='resnet', train=True)\n",
    "validation_data = create_dataset(validation_data_dir, batch_size, preprocessing='resnet', train=False)"
   ]
  },
  {
   "cell_type": "code",
   "execution_count": 13,
   "metadata": {},
   "outputs": [],
   "source": [
    "train_iterator = iter(train_data)"
   ]
  },
  {
   "cell_type": "code",
   "execution_count": 14,
   "metadata": {},
   "outputs": [],
   "source": [
    "images, labels = next(train_iterator)"
   ]
  },
  {
   "cell_type": "code",
   "execution_count": 15,
   "metadata": {},
   "outputs": [],
   "source": [
    "trainer = Trainer(model, opt, loss_func, scheduler, logging=logger, fp16=fp16, mixup_alpha=mixup_alpha, model_dir='~/models/')"
   ]
  },
  {
   "cell_type": "code",
   "execution_count": 16,
   "metadata": {},
   "outputs": [
    {
     "name": "stdout",
     "output_type": "stream",
     "text": [
      "WARNING:tensorflow:From /home/ubuntu/resnet152/preprocessing/augmentation_utils.py:19: Beta.__init__ (from tensorflow.python.ops.distributions.beta) is deprecated and will be removed after 2019-01-01.\n",
      "Instructions for updating:\n",
      "The TensorFlow Distributions library has moved to TensorFlow Probability (https://github.com/tensorflow/probability). You should update all references to use `tfp.distributions` instead of `tf.distributions`.\n",
      "WARNING:tensorflow:From /home/ubuntu/anaconda3/envs/tensorflow2_latest_p37/gpu_cuda11.0/lib/python3.7/site-packages/tensorflow/python/ops/distributions/beta.py:212: Distribution.__init__ (from tensorflow.python.ops.distributions.distribution) is deprecated and will be removed after 2019-01-01.\n",
      "Instructions for updating:\n",
      "The TensorFlow Distributions library has moved to TensorFlow Probability (https://github.com/tensorflow/probability). You should update all references to use `tfp.distributions` instead of `tf.distributions`.\n",
      "step: 0, step time: 0.9362, train_loss: 7.4534, top_1_accuracy: 0.0000, learning_rate: 0.0010\n",
      "step: 50, step time: 0.5165, train_loss: 7.4317, top_1_accuracy: 0.0020, learning_rate: 0.0019\n",
      "step: 100, step time: 0.2431, train_loss: 7.4339, top_1_accuracy: 0.0000, learning_rate: 0.0028\n",
      "step: 150, step time: 0.2432, train_loss: 7.4172, top_1_accuracy: 0.0039, learning_rate: 0.0037\n",
      "step: 200, step time: 0.2428, train_loss: 7.3969, top_1_accuracy: 0.0059, learning_rate: 0.0046\n",
      "step: 250, step time: 0.2427, train_loss: 7.3805, top_1_accuracy: 0.0059, learning_rate: 0.0055\n",
      "step: 300, step time: 0.2427, train_loss: 7.3274, top_1_accuracy: 0.0117, learning_rate: 0.0064\n",
      "step: 350, step time: 0.2428, train_loss: 7.3029, top_1_accuracy: 0.0137, learning_rate: 0.0073\n",
      "step: 400, step time: 0.2429, train_loss: 7.2599, top_1_accuracy: 0.0098, learning_rate: 0.0082\n",
      "step: 450, step time: 0.2428, train_loss: 7.2668, top_1_accuracy: 0.0078, learning_rate: 0.0091\n"
     ]
    },
    {
     "ename": "KeyboardInterrupt",
     "evalue": "",
     "output_type": "error",
     "traceback": [
      "\u001b[0;31m---------------------------------------------------------------------------\u001b[0m",
      "\u001b[0;31mKeyboardInterrupt\u001b[0m                         Traceback (most recent call last)",
      "\u001b[0;32m<ipython-input-16-9f14e6a2a73f>\u001b[0m in \u001b[0;36m<module>\u001b[0;34m\u001b[0m\n\u001b[1;32m      1\u001b[0m \u001b[0;32mfor\u001b[0m \u001b[0mepoch\u001b[0m \u001b[0;32min\u001b[0m \u001b[0mrange\u001b[0m\u001b[0;34m(\u001b[0m\u001b[0mnum_epochs\u001b[0m\u001b[0;34m)\u001b[0m\u001b[0;34m:\u001b[0m\u001b[0;34m\u001b[0m\u001b[0;34m\u001b[0m\u001b[0m\n\u001b[0;32m----> 2\u001b[0;31m     \u001b[0mtrainer\u001b[0m\u001b[0;34m.\u001b[0m\u001b[0mtrain_epoch\u001b[0m\u001b[0;34m(\u001b[0m\u001b[0mtrain_data\u001b[0m\u001b[0;34m)\u001b[0m\u001b[0;34m\u001b[0m\u001b[0;34m\u001b[0m\u001b[0m\n\u001b[0m",
      "\u001b[0;32m~/resnet152/engine/trainer.py\u001b[0m in \u001b[0;36mtrain_epoch\u001b[0;34m(self, dataset, print_interval)\u001b[0m\n\u001b[1;32m     82\u001b[0m         \u001b[0mself\u001b[0m\u001b[0;34m.\u001b[0m\u001b[0minner_iteration\u001b[0m \u001b[0;34m=\u001b[0m \u001b[0mtf\u001b[0m\u001b[0;34m.\u001b[0m\u001b[0mconvert_to_tensor\u001b[0m\u001b[0;34m(\u001b[0m\u001b[0;36m0\u001b[0m\u001b[0;34m)\u001b[0m\u001b[0;34m\u001b[0m\u001b[0;34m\u001b[0m\u001b[0m\n\u001b[1;32m     83\u001b[0m         \u001b[0;32mfor\u001b[0m \u001b[0mstep\u001b[0m\u001b[0;34m,\u001b[0m \u001b[0;34m(\u001b[0m\u001b[0mimages\u001b[0m\u001b[0;34m,\u001b[0m \u001b[0mlabels\u001b[0m\u001b[0;34m)\u001b[0m \u001b[0;32min\u001b[0m \u001b[0menumerate\u001b[0m\u001b[0;34m(\u001b[0m\u001b[0mdataset\u001b[0m\u001b[0;34m)\u001b[0m\u001b[0;34m:\u001b[0m\u001b[0;34m\u001b[0m\u001b[0;34m\u001b[0m\u001b[0m\n\u001b[0;32m---> 84\u001b[0;31m             \u001b[0mloss_value\u001b[0m\u001b[0;34m,\u001b[0m \u001b[0mtop_1_accuracy\u001b[0m \u001b[0;34m=\u001b[0m \u001b[0mself\u001b[0m\u001b[0;34m.\u001b[0m\u001b[0mtrain_step\u001b[0m\u001b[0;34m(\u001b[0m\u001b[0mimages\u001b[0m\u001b[0;34m,\u001b[0m \u001b[0mlabels\u001b[0m\u001b[0;34m,\u001b[0m \u001b[0mfirst_batch\u001b[0m\u001b[0;34m=\u001b[0m\u001b[0mstep\u001b[0m\u001b[0;34m==\u001b[0m\u001b[0;36m0\u001b[0m\u001b[0;34m)\u001b[0m\u001b[0;34m\u001b[0m\u001b[0;34m\u001b[0m\u001b[0m\n\u001b[0m\u001b[1;32m     85\u001b[0m             \u001b[0;32mif\u001b[0m \u001b[0mdist\u001b[0m\u001b[0;34m.\u001b[0m\u001b[0mrank\u001b[0m\u001b[0;34m(\u001b[0m\u001b[0;34m)\u001b[0m\u001b[0;34m==\u001b[0m\u001b[0;36m0\u001b[0m \u001b[0;32mand\u001b[0m \u001b[0mstep\u001b[0m\u001b[0;34m%\u001b[0m\u001b[0mprint_interval\u001b[0m\u001b[0;34m==\u001b[0m\u001b[0;36m0\u001b[0m\u001b[0;34m:\u001b[0m\u001b[0;34m\u001b[0m\u001b[0;34m\u001b[0m\u001b[0m\n\u001b[1;32m     86\u001b[0m                 self.print_train(print_interval, \n",
      "\u001b[0;32m~/anaconda3/envs/tensorflow2_latest_p37/gpu_cuda11.0/lib/python3.7/site-packages/tensorflow/python/eager/def_function.py\u001b[0m in \u001b[0;36m__call__\u001b[0;34m(self, *args, **kwds)\u001b[0m\n\u001b[1;32m    826\u001b[0m     \u001b[0mtracing_count\u001b[0m \u001b[0;34m=\u001b[0m \u001b[0mself\u001b[0m\u001b[0;34m.\u001b[0m\u001b[0mexperimental_get_tracing_count\u001b[0m\u001b[0;34m(\u001b[0m\u001b[0;34m)\u001b[0m\u001b[0;34m\u001b[0m\u001b[0;34m\u001b[0m\u001b[0m\n\u001b[1;32m    827\u001b[0m     \u001b[0;32mwith\u001b[0m \u001b[0mtrace\u001b[0m\u001b[0;34m.\u001b[0m\u001b[0mTrace\u001b[0m\u001b[0;34m(\u001b[0m\u001b[0mself\u001b[0m\u001b[0;34m.\u001b[0m\u001b[0m_name\u001b[0m\u001b[0;34m)\u001b[0m \u001b[0;32mas\u001b[0m \u001b[0mtm\u001b[0m\u001b[0;34m:\u001b[0m\u001b[0;34m\u001b[0m\u001b[0;34m\u001b[0m\u001b[0m\n\u001b[0;32m--> 828\u001b[0;31m       \u001b[0mresult\u001b[0m \u001b[0;34m=\u001b[0m \u001b[0mself\u001b[0m\u001b[0;34m.\u001b[0m\u001b[0m_call\u001b[0m\u001b[0;34m(\u001b[0m\u001b[0;34m*\u001b[0m\u001b[0margs\u001b[0m\u001b[0;34m,\u001b[0m \u001b[0;34m**\u001b[0m\u001b[0mkwds\u001b[0m\u001b[0;34m)\u001b[0m\u001b[0;34m\u001b[0m\u001b[0;34m\u001b[0m\u001b[0m\n\u001b[0m\u001b[1;32m    829\u001b[0m       \u001b[0mcompiler\u001b[0m \u001b[0;34m=\u001b[0m \u001b[0;34m\"xla\"\u001b[0m \u001b[0;32mif\u001b[0m \u001b[0mself\u001b[0m\u001b[0;34m.\u001b[0m\u001b[0m_experimental_compile\u001b[0m \u001b[0;32melse\u001b[0m \u001b[0;34m\"nonXla\"\u001b[0m\u001b[0;34m\u001b[0m\u001b[0;34m\u001b[0m\u001b[0m\n\u001b[1;32m    830\u001b[0m       \u001b[0mnew_tracing_count\u001b[0m \u001b[0;34m=\u001b[0m \u001b[0mself\u001b[0m\u001b[0;34m.\u001b[0m\u001b[0mexperimental_get_tracing_count\u001b[0m\u001b[0;34m(\u001b[0m\u001b[0;34m)\u001b[0m\u001b[0;34m\u001b[0m\u001b[0;34m\u001b[0m\u001b[0m\n",
      "\u001b[0;32m~/anaconda3/envs/tensorflow2_latest_p37/gpu_cuda11.0/lib/python3.7/site-packages/tensorflow/python/eager/def_function.py\u001b[0m in \u001b[0;36m_call\u001b[0;34m(self, *args, **kwds)\u001b[0m\n\u001b[1;32m    853\u001b[0m       \u001b[0;31m# In this case we have created variables on the first call, so we run the\u001b[0m\u001b[0;34m\u001b[0m\u001b[0;34m\u001b[0m\u001b[0;34m\u001b[0m\u001b[0m\n\u001b[1;32m    854\u001b[0m       \u001b[0;31m# defunned version which is guaranteed to never create variables.\u001b[0m\u001b[0;34m\u001b[0m\u001b[0;34m\u001b[0m\u001b[0;34m\u001b[0m\u001b[0m\n\u001b[0;32m--> 855\u001b[0;31m       \u001b[0;32mreturn\u001b[0m \u001b[0mself\u001b[0m\u001b[0;34m.\u001b[0m\u001b[0m_stateless_fn\u001b[0m\u001b[0;34m(\u001b[0m\u001b[0;34m*\u001b[0m\u001b[0margs\u001b[0m\u001b[0;34m,\u001b[0m \u001b[0;34m**\u001b[0m\u001b[0mkwds\u001b[0m\u001b[0;34m)\u001b[0m  \u001b[0;31m# pylint: disable=not-callable\u001b[0m\u001b[0;34m\u001b[0m\u001b[0;34m\u001b[0m\u001b[0m\n\u001b[0m\u001b[1;32m    856\u001b[0m     \u001b[0;32melif\u001b[0m \u001b[0mself\u001b[0m\u001b[0;34m.\u001b[0m\u001b[0m_stateful_fn\u001b[0m \u001b[0;32mis\u001b[0m \u001b[0;32mnot\u001b[0m \u001b[0;32mNone\u001b[0m\u001b[0;34m:\u001b[0m\u001b[0;34m\u001b[0m\u001b[0;34m\u001b[0m\u001b[0m\n\u001b[1;32m    857\u001b[0m       \u001b[0;31m# Release the lock early so that multiple threads can perform the call\u001b[0m\u001b[0;34m\u001b[0m\u001b[0;34m\u001b[0m\u001b[0;34m\u001b[0m\u001b[0m\n",
      "\u001b[0;32m~/anaconda3/envs/tensorflow2_latest_p37/gpu_cuda11.0/lib/python3.7/site-packages/tensorflow/python/eager/function.py\u001b[0m in \u001b[0;36m__call__\u001b[0;34m(self, *args, **kwargs)\u001b[0m\n\u001b[1;32m   2941\u001b[0m        filtered_flat_args) = self._maybe_define_function(args, kwargs)\n\u001b[1;32m   2942\u001b[0m     return graph_function._call_flat(\n\u001b[0;32m-> 2943\u001b[0;31m         filtered_flat_args, captured_inputs=graph_function.captured_inputs)  # pylint: disable=protected-access\n\u001b[0m\u001b[1;32m   2944\u001b[0m \u001b[0;34m\u001b[0m\u001b[0m\n\u001b[1;32m   2945\u001b[0m   \u001b[0;34m@\u001b[0m\u001b[0mproperty\u001b[0m\u001b[0;34m\u001b[0m\u001b[0;34m\u001b[0m\u001b[0m\n",
      "\u001b[0;32m~/anaconda3/envs/tensorflow2_latest_p37/gpu_cuda11.0/lib/python3.7/site-packages/tensorflow/python/eager/function.py\u001b[0m in \u001b[0;36m_call_flat\u001b[0;34m(self, args, captured_inputs, cancellation_manager)\u001b[0m\n\u001b[1;32m   1917\u001b[0m       \u001b[0;31m# No tape is watching; skip to running the function.\u001b[0m\u001b[0;34m\u001b[0m\u001b[0;34m\u001b[0m\u001b[0;34m\u001b[0m\u001b[0m\n\u001b[1;32m   1918\u001b[0m       return self._build_call_outputs(self._inference_function.call(\n\u001b[0;32m-> 1919\u001b[0;31m           ctx, args, cancellation_manager=cancellation_manager))\n\u001b[0m\u001b[1;32m   1920\u001b[0m     forward_backward = self._select_forward_and_backward_functions(\n\u001b[1;32m   1921\u001b[0m         \u001b[0margs\u001b[0m\u001b[0;34m,\u001b[0m\u001b[0;34m\u001b[0m\u001b[0;34m\u001b[0m\u001b[0m\n",
      "\u001b[0;32m~/anaconda3/envs/tensorflow2_latest_p37/gpu_cuda11.0/lib/python3.7/site-packages/tensorflow/python/eager/function.py\u001b[0m in \u001b[0;36mcall\u001b[0;34m(self, ctx, args, cancellation_manager)\u001b[0m\n\u001b[1;32m    558\u001b[0m               \u001b[0minputs\u001b[0m\u001b[0;34m=\u001b[0m\u001b[0margs\u001b[0m\u001b[0;34m,\u001b[0m\u001b[0;34m\u001b[0m\u001b[0;34m\u001b[0m\u001b[0m\n\u001b[1;32m    559\u001b[0m               \u001b[0mattrs\u001b[0m\u001b[0;34m=\u001b[0m\u001b[0mattrs\u001b[0m\u001b[0;34m,\u001b[0m\u001b[0;34m\u001b[0m\u001b[0;34m\u001b[0m\u001b[0m\n\u001b[0;32m--> 560\u001b[0;31m               ctx=ctx)\n\u001b[0m\u001b[1;32m    561\u001b[0m         \u001b[0;32melse\u001b[0m\u001b[0;34m:\u001b[0m\u001b[0;34m\u001b[0m\u001b[0;34m\u001b[0m\u001b[0m\n\u001b[1;32m    562\u001b[0m           outputs = execute.execute_with_cancellation(\n",
      "\u001b[0;32m~/anaconda3/envs/tensorflow2_latest_p37/gpu_cuda11.0/lib/python3.7/site-packages/tensorflow/python/eager/execute.py\u001b[0m in \u001b[0;36mquick_execute\u001b[0;34m(op_name, num_outputs, inputs, attrs, ctx, name)\u001b[0m\n\u001b[1;32m     58\u001b[0m     \u001b[0mctx\u001b[0m\u001b[0;34m.\u001b[0m\u001b[0mensure_initialized\u001b[0m\u001b[0;34m(\u001b[0m\u001b[0;34m)\u001b[0m\u001b[0;34m\u001b[0m\u001b[0;34m\u001b[0m\u001b[0m\n\u001b[1;32m     59\u001b[0m     tensors = pywrap_tfe.TFE_Py_Execute(ctx._handle, device_name, op_name,\n\u001b[0;32m---> 60\u001b[0;31m                                         inputs, attrs, num_outputs)\n\u001b[0m\u001b[1;32m     61\u001b[0m   \u001b[0;32mexcept\u001b[0m \u001b[0mcore\u001b[0m\u001b[0;34m.\u001b[0m\u001b[0m_NotOkStatusException\u001b[0m \u001b[0;32mas\u001b[0m \u001b[0me\u001b[0m\u001b[0;34m:\u001b[0m\u001b[0;34m\u001b[0m\u001b[0;34m\u001b[0m\u001b[0m\n\u001b[1;32m     62\u001b[0m     \u001b[0;32mif\u001b[0m \u001b[0mname\u001b[0m \u001b[0;32mis\u001b[0m \u001b[0;32mnot\u001b[0m \u001b[0;32mNone\u001b[0m\u001b[0;34m:\u001b[0m\u001b[0;34m\u001b[0m\u001b[0;34m\u001b[0m\u001b[0m\n",
      "\u001b[0;31mKeyboardInterrupt\u001b[0m: "
     ]
    }
   ],
   "source": [
    "for epoch in range(num_epochs):\n",
    "    trainer.train_epoch(train_data)"
   ]
  },
  {
   "cell_type": "code",
   "execution_count": 31,
   "metadata": {},
   "outputs": [
    {
     "data": {
      "text/plain": [
       "[<tf.Tensor: shape=(), dtype=float32, numpy=0.012518508>,\n",
       " <tf.Tensor: shape=(), dtype=float32, numpy=0.012889975>,\n",
       " <tf.Tensor: shape=(), dtype=float32, numpy=0.025611505>,\n",
       " <tf.Tensor: shape=(), dtype=float32, numpy=0.0012802852>,\n",
       " <tf.Tensor: shape=(), dtype=float32, numpy=0.0012910651>,\n",
       " <tf.Tensor: shape=(), dtype=float32, numpy=0.005134337>,\n",
       " <tf.Tensor: shape=(), dtype=float32, numpy=0.0050612004>,\n",
       " <tf.Tensor: shape=(), dtype=float32, numpy=0.001291969>,\n",
       " <tf.Tensor: shape=(), dtype=float32, numpy=0.0012933591>,\n",
       " <tf.Tensor: shape=(), dtype=float32, numpy=0.0051411>,\n",
       " <tf.Tensor: shape=(), dtype=float32, numpy=0.0012700263>,\n",
       " <tf.Tensor: shape=(), dtype=float32, numpy=0.0012805163>,\n",
       " <tf.Tensor: shape=(), dtype=float32, numpy=0.0050955014>,\n",
       " <tf.Tensor: shape=(), dtype=float32, numpy=0.0025513356>,\n",
       " <tf.Tensor: shape=(), dtype=float32, numpy=0.0025572693>,\n",
       " <tf.Tensor: shape=(), dtype=float32, numpy=0.010240554>,\n",
       " <tf.Tensor: shape=(), dtype=float32, numpy=0.010225231>,\n",
       " <tf.Tensor: shape=(), dtype=float32, numpy=0.0025666393>,\n",
       " <tf.Tensor: shape=(), dtype=float32, numpy=0.0025533708>,\n",
       " <tf.Tensor: shape=(), dtype=float32, numpy=0.010232138>,\n",
       " <tf.Tensor: shape=(), dtype=float32, numpy=0.0025601916>,\n",
       " <tf.Tensor: shape=(), dtype=float32, numpy=0.0025538523>,\n",
       " <tf.Tensor: shape=(), dtype=float32, numpy=0.010227177>,\n",
       " <tf.Tensor: shape=(), dtype=float32, numpy=0.002559215>,\n",
       " <tf.Tensor: shape=(), dtype=float32, numpy=0.0025753332>,\n",
       " <tf.Tensor: shape=(), dtype=float32, numpy=0.010218364>,\n",
       " <tf.Tensor: shape=(), dtype=float32, numpy=0.0025523456>,\n",
       " <tf.Tensor: shape=(), dtype=float32, numpy=0.002556045>,\n",
       " <tf.Tensor: shape=(), dtype=float32, numpy=0.010204216>,\n",
       " <tf.Tensor: shape=(), dtype=float32, numpy=0.0025584432>,\n",
       " <tf.Tensor: shape=(), dtype=float32, numpy=0.0025591>,\n",
       " <tf.Tensor: shape=(), dtype=float32, numpy=0.010262282>,\n",
       " <tf.Tensor: shape=(), dtype=float32, numpy=0.0025592872>,\n",
       " <tf.Tensor: shape=(), dtype=float32, numpy=0.0025601562>,\n",
       " <tf.Tensor: shape=(), dtype=float32, numpy=0.010273115>,\n",
       " <tf.Tensor: shape=(), dtype=float32, numpy=0.0025672698>,\n",
       " <tf.Tensor: shape=(), dtype=float32, numpy=0.0025617834>,\n",
       " <tf.Tensor: shape=(), dtype=float32, numpy=0.0101597095>,\n",
       " <tf.Tensor: shape=(), dtype=float32, numpy=0.005139547>,\n",
       " <tf.Tensor: shape=(), dtype=float32, numpy=0.0051291985>,\n",
       " <tf.Tensor: shape=(), dtype=float32, numpy=0.020462472>,\n",
       " <tf.Tensor: shape=(), dtype=float32, numpy=0.020416165>,\n",
       " <tf.Tensor: shape=(), dtype=float32, numpy=0.005116717>,\n",
       " <tf.Tensor: shape=(), dtype=float32, numpy=0.005111213>,\n",
       " <tf.Tensor: shape=(), dtype=float32, numpy=0.02043136>,\n",
       " <tf.Tensor: shape=(), dtype=float32, numpy=0.0051327185>,\n",
       " <tf.Tensor: shape=(), dtype=float32, numpy=0.005127207>,\n",
       " <tf.Tensor: shape=(), dtype=float32, numpy=0.020441575>,\n",
       " <tf.Tensor: shape=(), dtype=float32, numpy=0.005121343>,\n",
       " <tf.Tensor: shape=(), dtype=float32, numpy=0.0051209237>,\n",
       " <tf.Tensor: shape=(), dtype=float32, numpy=0.02048604>,\n",
       " <tf.Tensor: shape=(), dtype=float32, numpy=0.0051196436>,\n",
       " <tf.Tensor: shape=(), dtype=float32, numpy=0.005120837>,\n",
       " <tf.Tensor: shape=(), dtype=float32, numpy=0.020512553>,\n",
       " <tf.Tensor: shape=(), dtype=float32, numpy=0.005119687>,\n",
       " <tf.Tensor: shape=(), dtype=float32, numpy=0.005113355>,\n",
       " <tf.Tensor: shape=(), dtype=float32, numpy=0.020566054>,\n",
       " <tf.Tensor: shape=(), dtype=float32, numpy=0.0051204795>,\n",
       " <tf.Tensor: shape=(), dtype=float32, numpy=0.0051237475>,\n",
       " <tf.Tensor: shape=(), dtype=float32, numpy=0.020526655>,\n",
       " <tf.Tensor: shape=(), dtype=float32, numpy=0.0051441393>,\n",
       " <tf.Tensor: shape=(), dtype=float32, numpy=0.0051163477>,\n",
       " <tf.Tensor: shape=(), dtype=float32, numpy=0.020469444>,\n",
       " <tf.Tensor: shape=(), dtype=float32, numpy=0.0051298672>,\n",
       " <tf.Tensor: shape=(), dtype=float32, numpy=0.0051212455>,\n",
       " <tf.Tensor: shape=(), dtype=float32, numpy=0.020544862>,\n",
       " <tf.Tensor: shape=(), dtype=float32, numpy=0.005105845>,\n",
       " <tf.Tensor: shape=(), dtype=float32, numpy=0.005128311>,\n",
       " <tf.Tensor: shape=(), dtype=float32, numpy=0.020519515>,\n",
       " <tf.Tensor: shape=(), dtype=float32, numpy=0.0051094247>,\n",
       " <tf.Tensor: shape=(), dtype=float32, numpy=0.005121101>,\n",
       " <tf.Tensor: shape=(), dtype=float32, numpy=0.020460615>,\n",
       " <tf.Tensor: shape=(), dtype=float32, numpy=0.0051142722>,\n",
       " <tf.Tensor: shape=(), dtype=float32, numpy=0.0051082172>,\n",
       " <tf.Tensor: shape=(), dtype=float32, numpy=0.020471886>,\n",
       " <tf.Tensor: shape=(), dtype=float32, numpy=0.0051245675>,\n",
       " <tf.Tensor: shape=(), dtype=float32, numpy=0.0051172455>,\n",
       " <tf.Tensor: shape=(), dtype=float32, numpy=0.020435067>,\n",
       " <tf.Tensor: shape=(), dtype=float32, numpy=0.0051085926>,\n",
       " <tf.Tensor: shape=(), dtype=float32, numpy=0.00512099>,\n",
       " <tf.Tensor: shape=(), dtype=float32, numpy=0.020452388>,\n",
       " <tf.Tensor: shape=(), dtype=float32, numpy=0.0051429193>,\n",
       " <tf.Tensor: shape=(), dtype=float32, numpy=0.005121231>,\n",
       " <tf.Tensor: shape=(), dtype=float32, numpy=0.020495776>,\n",
       " <tf.Tensor: shape=(), dtype=float32, numpy=0.0051184003>,\n",
       " <tf.Tensor: shape=(), dtype=float32, numpy=0.00512114>,\n",
       " <tf.Tensor: shape=(), dtype=float32, numpy=0.020461326>,\n",
       " <tf.Tensor: shape=(), dtype=float32, numpy=0.0051364633>,\n",
       " <tf.Tensor: shape=(), dtype=float32, numpy=0.0051163123>,\n",
       " <tf.Tensor: shape=(), dtype=float32, numpy=0.020463837>,\n",
       " <tf.Tensor: shape=(), dtype=float32, numpy=0.005106606>,\n",
       " <tf.Tensor: shape=(), dtype=float32, numpy=0.005120847>,\n",
       " <tf.Tensor: shape=(), dtype=float32, numpy=0.02047903>,\n",
       " <tf.Tensor: shape=(), dtype=float32, numpy=0.0051211547>,\n",
       " <tf.Tensor: shape=(), dtype=float32, numpy=0.0051262476>,\n",
       " <tf.Tensor: shape=(), dtype=float32, numpy=0.020472204>,\n",
       " <tf.Tensor: shape=(), dtype=float32, numpy=0.005114052>,\n",
       " <tf.Tensor: shape=(), dtype=float32, numpy=0.005112223>,\n",
       " <tf.Tensor: shape=(), dtype=float32, numpy=0.020548364>,\n",
       " <tf.Tensor: shape=(), dtype=float32, numpy=0.005123463>,\n",
       " <tf.Tensor: shape=(), dtype=float32, numpy=0.005113284>,\n",
       " <tf.Tensor: shape=(), dtype=float32, numpy=0.02045206>,\n",
       " <tf.Tensor: shape=(), dtype=float32, numpy=0.0051166196>,\n",
       " <tf.Tensor: shape=(), dtype=float32, numpy=0.005121047>,\n",
       " <tf.Tensor: shape=(), dtype=float32, numpy=0.02051216>,\n",
       " <tf.Tensor: shape=(), dtype=float32, numpy=0.0051149316>,\n",
       " <tf.Tensor: shape=(), dtype=float32, numpy=0.005116902>,\n",
       " <tf.Tensor: shape=(), dtype=float32, numpy=0.020454517>,\n",
       " <tf.Tensor: shape=(), dtype=float32, numpy=0.0051265587>,\n",
       " <tf.Tensor: shape=(), dtype=float32, numpy=0.005116736>,\n",
       " <tf.Tensor: shape=(), dtype=float32, numpy=0.020468494>,\n",
       " <tf.Tensor: shape=(), dtype=float32, numpy=0.00514423>,\n",
       " <tf.Tensor: shape=(), dtype=float32, numpy=0.005122928>,\n",
       " <tf.Tensor: shape=(), dtype=float32, numpy=0.020494442>,\n",
       " <tf.Tensor: shape=(), dtype=float32, numpy=0.00511759>,\n",
       " <tf.Tensor: shape=(), dtype=float32, numpy=0.005121672>,\n",
       " <tf.Tensor: shape=(), dtype=float32, numpy=0.02047246>,\n",
       " <tf.Tensor: shape=(), dtype=float32, numpy=0.005124803>,\n",
       " <tf.Tensor: shape=(), dtype=float32, numpy=0.0051186252>,\n",
       " <tf.Tensor: shape=(), dtype=float32, numpy=0.020465177>,\n",
       " <tf.Tensor: shape=(), dtype=float32, numpy=0.005098007>,\n",
       " <tf.Tensor: shape=(), dtype=float32, numpy=0.005145729>,\n",
       " <tf.Tensor: shape=(), dtype=float32, numpy=0.020498399>,\n",
       " <tf.Tensor: shape=(), dtype=float32, numpy=0.00513087>,\n",
       " <tf.Tensor: shape=(), dtype=float32, numpy=0.0051249717>,\n",
       " <tf.Tensor: shape=(), dtype=float32, numpy=0.020470805>,\n",
       " <tf.Tensor: shape=(), dtype=float32, numpy=0.0051133023>,\n",
       " <tf.Tensor: shape=(), dtype=float32, numpy=0.005112095>,\n",
       " <tf.Tensor: shape=(), dtype=float32, numpy=0.020483373>,\n",
       " <tf.Tensor: shape=(), dtype=float32, numpy=0.0051143127>,\n",
       " <tf.Tensor: shape=(), dtype=float32, numpy=0.005108604>,\n",
       " <tf.Tensor: shape=(), dtype=float32, numpy=0.020519268>,\n",
       " <tf.Tensor: shape=(), dtype=float32, numpy=0.0051238085>,\n",
       " <tf.Tensor: shape=(), dtype=float32, numpy=0.0051287552>,\n",
       " <tf.Tensor: shape=(), dtype=float32, numpy=0.020507248>,\n",
       " <tf.Tensor: shape=(), dtype=float32, numpy=0.005108894>,\n",
       " <tf.Tensor: shape=(), dtype=float32, numpy=0.0051033883>,\n",
       " <tf.Tensor: shape=(), dtype=float32, numpy=0.020495886>,\n",
       " <tf.Tensor: shape=(), dtype=float32, numpy=0.0051215966>,\n",
       " <tf.Tensor: shape=(), dtype=float32, numpy=0.005108595>,\n",
       " <tf.Tensor: shape=(), dtype=float32, numpy=0.020489171>,\n",
       " <tf.Tensor: shape=(), dtype=float32, numpy=0.0051149777>,\n",
       " <tf.Tensor: shape=(), dtype=float32, numpy=0.0051071756>,\n",
       " <tf.Tensor: shape=(), dtype=float32, numpy=0.020500679>,\n",
       " <tf.Tensor: shape=(), dtype=float32, numpy=0.0051263035>,\n",
       " <tf.Tensor: shape=(), dtype=float32, numpy=0.0051205675>,\n",
       " <tf.Tensor: shape=(), dtype=float32, numpy=0.020489844>,\n",
       " <tf.Tensor: shape=(), dtype=float32, numpy=0.010250957>,\n",
       " <tf.Tensor: shape=(), dtype=float32, numpy=0.010241855>,\n",
       " <tf.Tensor: shape=(), dtype=float32, numpy=0.040996876>,\n",
       " <tf.Tensor: shape=(), dtype=float32, numpy=0.041047618>,\n",
       " <tf.Tensor: shape=(), dtype=float32, numpy=0.010265528>,\n",
       " <tf.Tensor: shape=(), dtype=float32, numpy=0.010237618>,\n",
       " <tf.Tensor: shape=(), dtype=float32, numpy=0.041057605>,\n",
       " <tf.Tensor: shape=(), dtype=float32, numpy=0.010237198>,\n",
       " <tf.Tensor: shape=(), dtype=float32, numpy=0.010246698>,\n",
       " <tf.Tensor: shape=(), dtype=float32, numpy=0.041032217>,\n",
       " <tf.Tensor: shape=(), dtype=float32, numpy=0.01585705>]"
      ]
     },
     "execution_count": 31,
     "metadata": {},
     "output_type": "execute_result"
    }
   ],
   "source": [
    "trainer.model.losses"
   ]
  },
  {
   "cell_type": "code",
   "execution_count": null,
   "metadata": {},
   "outputs": [],
   "source": [
    "trainer.validation_epoch(validation_data, output_name='epoch_1')"
   ]
  },
  {
   "cell_type": "code",
   "execution_count": 1,
   "metadata": {},
   "outputs": [],
   "source": [
    "from pathlib import Path"
   ]
  },
  {
   "cell_type": "code",
   "execution_count": 3,
   "metadata": {},
   "outputs": [
    {
     "data": {
      "text/plain": [
       "'train'"
      ]
     },
     "execution_count": 3,
     "metadata": {},
     "output_type": "execute_result"
    }
   ],
   "source": [
    "Path('/opt/ml/input/data/train').stem"
   ]
  },
  {
   "cell_type": "code",
   "execution_count": null,
   "metadata": {},
   "outputs": [],
   "source": []
  }
 ],
 "metadata": {
  "kernelspec": {
   "display_name": "Environment (conda_tensorflow2_latest_p37)",
   "language": "python",
   "name": "conda_tensorflow2_latest_p37"
  },
  "language_info": {
   "codemirror_mode": {
    "name": "ipython",
    "version": 3
   },
   "file_extension": ".py",
   "mimetype": "text/x-python",
   "name": "python",
   "nbconvert_exporter": "python",
   "pygments_lexer": "ipython3",
   "version": "3.7.10"
  }
 },
 "nbformat": 4,
 "nbformat_minor": 2
}
